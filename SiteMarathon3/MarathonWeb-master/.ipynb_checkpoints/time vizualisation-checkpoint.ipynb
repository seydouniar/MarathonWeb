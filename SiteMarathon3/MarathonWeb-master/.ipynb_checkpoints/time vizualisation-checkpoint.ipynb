{
 "cells": [
  {
   "cell_type": "code",
   "execution_count": 1,
   "metadata": {},
   "outputs": [
    {
     "ename": "ModuleNotFoundError",
     "evalue": "No module named 'plotly'",
     "output_type": "error",
     "traceback": [
      "\u001b[0;31m---------------------------------------------------------------------------\u001b[0m",
      "\u001b[0;31mModuleNotFoundError\u001b[0m                       Traceback (most recent call last)",
      "\u001b[0;32m<ipython-input-1-d3d581b505a1>\u001b[0m in \u001b[0;36m<module>\u001b[0;34m()\u001b[0m\n\u001b[0;32m----> 1\u001b[0;31m \u001b[0;32mimport\u001b[0m \u001b[0mplotly\u001b[0m \u001b[0;32mas\u001b[0m \u001b[0mpl\u001b[0m\u001b[0;34m\u001b[0m\u001b[0m\n\u001b[0m\u001b[1;32m      2\u001b[0m \u001b[0;32mimport\u001b[0m \u001b[0mplotly\u001b[0m\u001b[0;34m.\u001b[0m\u001b[0mplotly\u001b[0m \u001b[0;32mas\u001b[0m \u001b[0mpy\u001b[0m\u001b[0;34m\u001b[0m\u001b[0m\n\u001b[1;32m      3\u001b[0m \u001b[0;32mimport\u001b[0m \u001b[0mnumpy\u001b[0m \u001b[0;32mas\u001b[0m \u001b[0mnp\u001b[0m\u001b[0;34m\u001b[0m\u001b[0m\n\u001b[1;32m      4\u001b[0m \u001b[0;32mimport\u001b[0m \u001b[0mpandas\u001b[0m \u001b[0;32mas\u001b[0m \u001b[0mpd\u001b[0m\u001b[0;34m\u001b[0m\u001b[0m\n\u001b[1;32m      5\u001b[0m \u001b[0;32mimport\u001b[0m \u001b[0mplotly\u001b[0m\u001b[0;34m.\u001b[0m\u001b[0mgraph_objs\u001b[0m \u001b[0;32mas\u001b[0m \u001b[0mgo\u001b[0m\u001b[0;34m\u001b[0m\u001b[0m\n",
      "\u001b[0;31mModuleNotFoundError\u001b[0m: No module named 'plotly'"
     ]
    }
   ],
   "source": [
    "import plotly as pl\n",
    "import plotly.plotly as py\n",
    "import numpy as np\n",
    "import pandas as pd\n",
    "import plotly.graph_objs as go\n",
    "plotly.tools.set_credentials_file(username='HerbertGourout', api_key='rCfamr0DHh0nnioBytM9')\n",
    "from datetime import*\n",
    "import bokeh \n",
    "import pandas_datareader.data as web\n",
    "import plotly\n",
    "from plotly.graph_objs import Scatter, Layout\n",
    "import plotly\n",
    "from plotly.graph_objs import Scatter, Layout\n",
    "import plotly\n",
    "plotly.__version__"
   ]
  },
  {
   "cell_type": "code",
   "execution_count": null,
   "metadata": {},
   "outputs": [],
   "source": [
    "start=datetime(2010, 1, 1)\n",
    "end=datetime(2011, 7, 1)\n",
    "df=web.DataReader(\"F\", \"morningstar\", start, end)\n",
    "df.head()"
   ]
  },
  {
   "cell_type": "code",
   "execution_count": null,
   "metadata": {},
   "outputs": [],
   "source": [
    "#import plotly.plotly as py\n",
    "#from plotly.graph_objs import *\n",
    "\n",
    "#trace0 = Scatter(\n",
    "#    x=[1, 2, 3, 4],\n",
    "#    y=[10, 15, 13, 17]\n",
    "#)\n",
    "#trace1 = Scatter(\n",
    "#    x=[1, 2, 3, 4],\n",
    "#    y=[16, 5, 11, 9]\n",
    "#)\n",
    "#data = Data([trace0, trace1])\n",
    "\n",
    "#py.plot(data, filename = 'basic-line')"
   ]
  },
  {
   "cell_type": "code",
   "execution_count": null,
   "metadata": {},
   "outputs": [],
   "source": [
    "#df = web.DataReader(\"aapl\", 'yahoo',  datetime(2015, 1, 1),  datetime(2016, 7, 1))"
   ]
  },
  {
   "cell_type": "code",
   "execution_count": null,
   "metadata": {},
   "outputs": [],
   "source": [
    "plotly.offline.iplot({\n",
    "    \"data\": [Scatter(x=[2, 2, 3, 4], y=[4, 3, 2, 1])],\n",
    "    \"layout\": Layout(title=\"hello worlds\")\n",
    "})"
   ]
  },
  {
   "cell_type": "code",
   "execution_count": null,
   "metadata": {},
   "outputs": [],
   "source": [
    "\n",
    "\n",
    "plotly.offline.iplot({\n",
    "    \"data\": [Scatter(x=[2, 2, 3, 4], y=[4, 3, 2, 1])],\n",
    "    \"layout\": Layout(title=\"hello worlds\")\n",
    "})"
   ]
  },
  {
   "cell_type": "code",
   "execution_count": null,
   "metadata": {},
   "outputs": [],
   "source": [
    "start=datetime(2010, 1, 1)\n",
    "end=datetime(2011, 7, 1)\n",
    "df=web.DataReader(\"F\", \"morningstar\", start, end)\n",
    "\n",
    "data = [go.Scatter(x=df.index, y=df.Low)]\n",
    "pl.offline.plot(data)\n",
    "\n",
    "\n",
    "\n"
   ]
  },
  {
   "cell_type": "code",
   "execution_count": null,
   "metadata": {},
   "outputs": [],
   "source": [
    "df = pd.read_csv(\"https://raw.githubusercontent.com/plotly/datasets/master/finance-charts-apple.csv\")"
   ]
  },
  {
   "cell_type": "code",
   "execution_count": null,
   "metadata": {},
   "outputs": [],
   "source": [
    "data = [go.Scatter(x=df.Date, y=df['AAPL.Low'])]\n",
    "\n",
    "pl.offline.plot(data)\n"
   ]
  },
  {
   "cell_type": "code",
   "execution_count": null,
   "metadata": {},
   "outputs": [],
   "source": [
    "trace1=go.Scatter(x=df.Date, y=df['AAPL.Low'], name=\"AAPL Low\", line = dict(color = '#17BECF'), opacity = 0.8)\n",
    "trace2=go.Scatter(x=df.Date, y=df['AAPL.High'], name=\"AAPL HIGH\", line=dict(color='#7F7F7F'), opacity=0.8)\n",
    "trace3=go.Scatter(x=df.Date, y=df['AAPL.Close'], name=\"AAPL HIGH\", line=dict(color='red'), opacity=0.8)\n",
    "\n",
    "data=[trace1,trace2,trace3]\n",
    "\n",
    "layout = dict(\n",
    "    title = \"Manually Set Date Range\",\n",
    "    xaxis = dict(\n",
    "        range = ['2016-07-01','2016-12-31'])\n",
    ")\n",
    "\n",
    "fig = dict(data=data, layout=layout)\n",
    "pl.offline.plot(fig, filename = \"Manually Set Range.html\")"
   ]
  },
  {
   "cell_type": "code",
   "execution_count": null,
   "metadata": {},
   "outputs": [],
   "source": [
    "trace1=go.Scatter(x=df.Date,\n",
    "                  y=df['AAPL.Low'],\n",
    "                  name=\"AAPL Low\", \n",
    "                  line = dict(color = '#17BECF'),\n",
    "                  opacity = 0.8)\n",
    "trace2=go.Scatter(x=df.Date,\n",
    "                  y=df['AAPL.High'],\n",
    "                  name=\"AAPL HIGH\", \n",
    "                  line=dict(color='#7F7F7F'), \n",
    "                  opacity=0.8)\n",
    "trace3=go.Scatter(x=df.Date,\n",
    "                  y=df['AAPL.Close'],\n",
    "                  name=\"AAPL HIGH\",\n",
    "                  line=dict(color='red'),\n",
    "                  opacity=0.8)\n",
    "\n",
    "data=[trace1,trace2,trace3]\n",
    "\n",
    "layout = dict(\n",
    "    title='Time Series with Rangeslider',\n",
    "    xaxis=dict(\n",
    "        rangeselector=dict(\n",
    "            buttons=list([\n",
    "                dict(count=1,\n",
    "                     label='1m',\n",
    "                     step='month',\n",
    "                     stepmode='backward'),\n",
    "                dict(count=6,\n",
    "                     label='6m',\n",
    "                     step='month',\n",
    "                     stepmode='backward'),\n",
    "                dict(count=1,\n",
    "                    label='YTD',\n",
    "                    step='year',\n",
    "                    stepmode='todate'),\n",
    "                \n",
    "                dict(count=1,\n",
    "                    label='1y',\n",
    "                    step='year',\n",
    "                    stepmode='backward'),\n",
    "                dict(step='all')\n",
    "            ])\n",
    "        ),\n",
    "        rangeslider=dict(),\n",
    "        type='date'\n",
    "    )\n",
    ")\n",
    "\n",
    "\n",
    "fig = dict(data=data, layout=layout)\n",
    "pl.offline.plot(fig, filename = \"Manually Set Range.html\")"
   ]
  },
  {
   "cell_type": "code",
   "execution_count": null,
   "metadata": {},
   "outputs": [],
   "source": [
    "Low=df['AAPL.Low']\n",
    "High=df['AAPL.High']\n",
    "\n",
    "trace1=go.Scatter(x=df.Date,\n",
    "                  y=Low,\n",
    "                  name=\"AAPL Low\", \n",
    "                  line = dict(color = '#17BECF'),\n",
    "                  opacity = 0.8)\n",
    "\n",
    "trace_low_avg = go.Scatter(x=df.Date,\n",
    "                            y=[Low.mean()]*len(df.Date),\n",
    "                            name='Low Average',\n",
    "                            visible=False,\n",
    "                            line=dict(color='#33CFA5', dash='dash'))\n",
    "\n",
    "trace2=go.Scatter(x=df.Date,\n",
    "                  y=High,\n",
    "                  name=\"AAPL HIGH\", \n",
    "                  line=dict(color='#7F7F7F'), \n",
    "                  opacity=0.8)\n",
    "\n",
    "trace_high_avg = go.Scatter(x=df.Date,\n",
    "                            y=[High.mean()]*len(df.Date),\n",
    "                            name='High Average',\n",
    "                            visible=False,\n",
    "                            line=dict(color='#33CFA5', dash='dash'))\n",
    "\n",
    "data = [trace1,trace_low_avg, trace2, trace_high_avg]\n",
    "\n",
    "\n",
    "high_annotations=[dict(x=df.Date,\n",
    "                       y=High.mean(),\n",
    "                       xref='x', yref='y',\n",
    "                       text='High Average:<br>'+str(High.mean()),\n",
    "                       ax=0, ay=-40),\n",
    "                  dict(x=High.idxmax(),\n",
    "                       y=High.max(),\n",
    "                       xref='x', yref='y',\n",
    "                       text='High Max:<br>'+str(High.max()),\n",
    "                       ax=0, ay=-40)]\n",
    "\n",
    "\n",
    "low_annotations=[dict(x=df.Date,\n",
    "                      y=Low.mean(),\n",
    "                      xref='x', yref='y',\n",
    "                      text='Low Average:<br>'+str(Low.mean()),\n",
    "                      ax=0, ay=40),\n",
    "                 dict(x=High.idxmin(),\n",
    "                      y=Low.min(),\n",
    "                      xref='x', yref='y',\n",
    "                      text='Low Min:<br>'+str(Low.min()),\n",
    "                      ax=0, ay=40)]\n",
    "\n",
    "\n",
    "updatemenus = list([\n",
    "    dict(active=-1,\n",
    "         buttons=list([   \n",
    "            dict(label = 'High',\n",
    "                 method = 'update',\n",
    "                 args = [{'visible': [True, True, False, False]},\n",
    "                         {'title': 'Yahoo High',\n",
    "                          'annotations': high_annotations}]),\n",
    "            dict(label = 'Low',\n",
    "                 method = 'update',\n",
    "                 args = [{'visible': [False, False, True, True]},\n",
    "                         {'title': 'Yahoo Low',\n",
    "                          'annotations': low_annotations}]),\n",
    "            dict(label = 'Both',\n",
    "                 method = 'update',\n",
    "                 args = [{'visible': [True, True, True, True]},\n",
    "                         {'title': 'Yahoo',\n",
    "                          'annotations': high_annotations+low_annotations}]),\n",
    "            dict(label = 'Reset',\n",
    "                 method = 'update',\n",
    "                 args = [{'visible': [True, False, True, False]},\n",
    "                         {'title': 'Yahoo',\n",
    "                          'annotations': []}])\n",
    "        ]),\n",
    "    )\n",
    "])\n",
    "\n",
    "layout = dict(title='Yahoo', showlegend=False,\n",
    "              updatemenus=updatemenus)\n",
    "\n",
    "fig = dict(data=data, layout=layout)\n",
    "pl.offline.plot(fig, filename='update_dropdown')\n",
    "\n",
    "#################################################################################################################\n",
    "\n",
    "\n"
   ]
  },
  {
   "cell_type": "code",
   "execution_count": null,
   "metadata": {},
   "outputs": [],
   "source": []
  },
  {
   "cell_type": "code",
   "execution_count": null,
   "metadata": {},
   "outputs": [],
   "source": []
  }
 ],
 "metadata": {
  "kernelspec": {
   "display_name": "Python 3",
   "language": "python",
   "name": "python3"
  },
  "language_info": {
   "codemirror_mode": {
    "name": "ipython",
    "version": 3
   },
   "file_extension": ".py",
   "mimetype": "text/x-python",
   "name": "python",
   "nbconvert_exporter": "python",
   "pygments_lexer": "ipython3",
   "version": "3.6.4"
  }
 },
 "nbformat": 4,
 "nbformat_minor": 2
}
