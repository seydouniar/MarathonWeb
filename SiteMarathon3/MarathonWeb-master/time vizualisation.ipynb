{
 "cells": [
  {
   "cell_type": "code",
   "execution_count": 1,
   "metadata": {},
   "outputs": [
    {
     "data": {
      "text/plain": [
       "'2.5.0'"
      ]
     },
     "execution_count": 1,
     "metadata": {},
     "output_type": "execute_result"
    }
   ],
   "source": [
    "import plotly as pl\n",
    "import plotly.plotly as py\n",
    "import numpy as np\n",
    "import pandas as pd\n",
    "import plotly.graph_objs as go\n",
    "pl.tools.set_credentials_file(username='HerbertGourout', api_key='rCfamr0DHh0nnioBytM9')\n",
    "from datetime import*\n",
    "import bokeh \n",
    "import pandas_datareader.data as web\n",
    "import plotly\n",
    "from plotly.graph_objs import Scatter, Layout\n",
    "import plotly\n",
    "from plotly.graph_objs import Scatter, Layout\n",
    "import plotly\n",
    "plotly.__version__\n"
   ]
  },
  {
   "cell_type": "code",
   "execution_count": 2,
   "metadata": {},
   "outputs": [
    {
     "data": {
      "text/html": [
       "<div>\n",
       "<style scoped>\n",
       "    .dataframe tbody tr th:only-of-type {\n",
       "        vertical-align: middle;\n",
       "    }\n",
       "\n",
       "    .dataframe tbody tr th {\n",
       "        vertical-align: top;\n",
       "    }\n",
       "\n",
       "    .dataframe thead th {\n",
       "        text-align: right;\n",
       "    }\n",
       "</style>\n",
       "<table border=\"1\" class=\"dataframe\">\n",
       "  <thead>\n",
       "    <tr style=\"text-align: right;\">\n",
       "      <th></th>\n",
       "      <th></th>\n",
       "      <th>Close</th>\n",
       "      <th>High</th>\n",
       "      <th>Low</th>\n",
       "      <th>Open</th>\n",
       "      <th>Volume</th>\n",
       "    </tr>\n",
       "    <tr>\n",
       "      <th>Symbol</th>\n",
       "      <th>Date</th>\n",
       "      <th></th>\n",
       "      <th></th>\n",
       "      <th></th>\n",
       "      <th></th>\n",
       "      <th></th>\n",
       "    </tr>\n",
       "  </thead>\n",
       "  <tbody>\n",
       "    <tr>\n",
       "      <th rowspan=\"5\" valign=\"top\">F</th>\n",
       "      <th>2010-01-01</th>\n",
       "      <td>10.00</td>\n",
       "      <td>10.06</td>\n",
       "      <td>9.9200</td>\n",
       "      <td>10.04</td>\n",
       "      <td>0</td>\n",
       "    </tr>\n",
       "    <tr>\n",
       "      <th>2010-01-04</th>\n",
       "      <td>10.28</td>\n",
       "      <td>10.28</td>\n",
       "      <td>10.0455</td>\n",
       "      <td>10.17</td>\n",
       "      <td>60855796</td>\n",
       "    </tr>\n",
       "    <tr>\n",
       "      <th>2010-01-05</th>\n",
       "      <td>10.96</td>\n",
       "      <td>11.24</td>\n",
       "      <td>10.4000</td>\n",
       "      <td>10.45</td>\n",
       "      <td>215620138</td>\n",
       "    </tr>\n",
       "    <tr>\n",
       "      <th>2010-01-06</th>\n",
       "      <td>11.37</td>\n",
       "      <td>11.46</td>\n",
       "      <td>11.1300</td>\n",
       "      <td>11.21</td>\n",
       "      <td>200070554</td>\n",
       "    </tr>\n",
       "    <tr>\n",
       "      <th>2010-01-07</th>\n",
       "      <td>11.66</td>\n",
       "      <td>11.69</td>\n",
       "      <td>11.3200</td>\n",
       "      <td>11.46</td>\n",
       "      <td>130201626</td>\n",
       "    </tr>\n",
       "  </tbody>\n",
       "</table>\n",
       "</div>"
      ],
      "text/plain": [
       "                   Close   High      Low   Open     Volume\n",
       "Symbol Date                                               \n",
       "F      2010-01-01  10.00  10.06   9.9200  10.04          0\n",
       "       2010-01-04  10.28  10.28  10.0455  10.17   60855796\n",
       "       2010-01-05  10.96  11.24  10.4000  10.45  215620138\n",
       "       2010-01-06  11.37  11.46  11.1300  11.21  200070554\n",
       "       2010-01-07  11.66  11.69  11.3200  11.46  130201626"
      ]
     },
     "execution_count": 2,
     "metadata": {},
     "output_type": "execute_result"
    }
   ],
   "source": [
    "start=datetime(2010, 1, 1)\n",
    "end=datetime(2011, 7, 1)\n",
    "df=web.DataReader(\"F\", \"morningstar\", start, end)\n",
    "df.head()"
   ]
  },
  {
   "cell_type": "code",
   "execution_count": 3,
   "metadata": {},
   "outputs": [],
   "source": [
    "#import plotly.plotly as py\n",
    "#from plotly.graph_objs import *\n",
    "\n",
    "#trace0 = Scatter(\n",
    "#    x=[1, 2, 3, 4],\n",
    "#    y=[10, 15, 13, 17]\n",
    "#)\n",
    "#trace1 = Scatter(\n",
    "#    x=[1, 2, 3, 4],\n",
    "#    y=[16, 5, 11, 9]\n",
    "#)\n",
    "#data = Data([trace0, trace1])\n",
    "\n",
    "#py.plot(data, filename = 'basic-line')"
   ]
  },
  {
   "cell_type": "code",
   "execution_count": 4,
   "metadata": {},
   "outputs": [],
   "source": [
    "#df = web.DataReader(\"aapl\", 'yahoo',  datetime(2015, 1, 1),  datetime(2016, 7, 1))"
   ]
  },
  {
   "cell_type": "code",
   "execution_count": 5,
   "metadata": {},
   "outputs": [
    {
     "data": {
      "application/vnd.plotly.v1+json": {
       "data": [
        {
         "type": "scatter",
         "x": [
          2,
          2,
          3,
          4
         ],
         "y": [
          4,
          3,
          2,
          1
         ]
        }
       ],
       "layout": {
        "title": "hello worlds"
       }
      }
     },
     "metadata": {},
     "output_type": "display_data"
    }
   ],
   "source": [
    "plotly.offline.iplot({\n",
    "    \"data\": [Scatter(x=[2, 2, 3, 4], y=[4, 3, 2, 1])],\n",
    "    \"layout\": Layout(title=\"hello worlds\")\n",
    "})"
   ]
  },
  {
   "cell_type": "code",
   "execution_count": 6,
   "metadata": {},
   "outputs": [
    {
     "data": {
      "application/vnd.plotly.v1+json": {
       "data": [
        {
         "type": "scatter",
         "x": [
          2,
          2,
          3,
          4
         ],
         "y": [
          4,
          3,
          2,
          1
         ]
        }
       ],
       "layout": {
        "title": "hello worlds"
       }
      }
     },
     "metadata": {},
     "output_type": "display_data"
    }
   ],
   "source": [
    "\n",
    "\n",
    "plotly.offline.iplot({\n",
    "    \"data\": [Scatter(x=[2, 2, 3, 4], y=[4, 3, 2, 1])],\n",
    "    \"layout\": Layout(title=\"hello worlds\")\n",
    "})"
   ]
  },
  {
   "cell_type": "code",
   "execution_count": 7,
   "metadata": {},
   "outputs": [
    {
     "data": {
      "text/plain": [
       "'file:///home/seydou/MarathonWeb/temp-plot.html'"
      ]
     },
     "execution_count": 7,
     "metadata": {},
     "output_type": "execute_result"
    }
   ],
   "source": [
    "start=datetime(2010, 1, 1)\n",
    "end=datetime(2011, 7, 1)\n",
    "df=web.DataReader(\"F\", \"morningstar\", start, end)\n",
    "\n",
    "data = [go.Scatter(x=df.index, y=df.Low)]\n",
    "pl.offline.plot(data)\n",
    "\n",
    "\n",
    "\n"
   ]
  },
  {
   "cell_type": "code",
   "execution_count": 8,
   "metadata": {},
   "outputs": [],
   "source": [
    "df = pd.read_csv(\"https://raw.githubusercontent.com/plotly/datasets/master/finance-charts-apple.csv\")"
   ]
  },
  {
   "cell_type": "code",
   "execution_count": 9,
   "metadata": {},
   "outputs": [
    {
     "data": {
      "text/plain": [
       "'file:///home/seydou/MarathonWeb/temp-plot.html'"
      ]
     },
     "execution_count": 9,
     "metadata": {},
     "output_type": "execute_result"
    }
   ],
   "source": [
    "data = [go.Scatter(x=df.Date, y=df['AAPL.Low'])]\n",
    "\n",
    "pl.offline.plot(data)\n"
   ]
  },
  {
   "cell_type": "code",
   "execution_count": 10,
   "metadata": {},
   "outputs": [
    {
     "data": {
      "text/plain": [
       "'file:///home/seydou/MarathonWeb/Manually Set Range.html'"
      ]
     },
     "execution_count": 10,
     "metadata": {},
     "output_type": "execute_result"
    }
   ],
   "source": [
    "trace1=go.Scatter(x=df.Date, y=df['AAPL.Low'], name=\"AAPL Low\", line = dict(color = '#17BECF'), opacity = 0.8)\n",
    "trace2=go.Scatter(x=df.Date, y=df['AAPL.High'], name=\"AAPL HIGH\", line=dict(color='#7F7F7F'), opacity=0.8)\n",
    "trace3=go.Scatter(x=df.Date, y=df['AAPL.Close'], name=\"AAPL HIGH\", line=dict(color='red'), opacity=0.8)\n",
    "\n",
    "data=[trace1,trace2,trace3]\n",
    "\n",
    "layout = dict(\n",
    "    title = \"Manually Set Date Range\",\n",
    "    xaxis = dict(\n",
    "        range = ['2016-07-01','2016-12-31'])\n",
    ")\n",
    "\n",
    "fig = dict(data=data, layout=layout)\n",
    "pl.offline.plot(fig, filename = \"Manually Set Range.html\")"
   ]
  },
  {
   "cell_type": "code",
   "execution_count": 11,
   "metadata": {},
   "outputs": [
    {
     "data": {
      "text/plain": [
       "'file:///home/seydou/MarathonWeb/Manually Set Range.html'"
      ]
     },
     "execution_count": 11,
     "metadata": {},
     "output_type": "execute_result"
    }
   ],
   "source": [
    "trace1=go.Scatter(x=df.Date,\n",
    "                  y=df['AAPL.Low'],\n",
    "                  name=\"AAPL Low\", \n",
    "                  line = dict(color = '#17BECF'),\n",
    "                  opacity = 0.8)\n",
    "trace2=go.Scatter(x=df.Date,\n",
    "                  y=df['AAPL.High'],\n",
    "                  name=\"AAPL HIGH\", \n",
    "                  line=dict(color='#7F7F7F'), \n",
    "                  opacity=0.8)\n",
    "trace3=go.Scatter(x=df.Date,\n",
    "                  y=df['AAPL.Close'],\n",
    "                  name=\"AAPL HIGH\",\n",
    "                  line=dict(color='red'),\n",
    "                  opacity=0.8)\n",
    "\n",
    "data=[trace1,trace2,trace3]\n",
    "\n",
    "layout = dict(\n",
    "    title='Time Series with Rangeslider',\n",
    "    xaxis=dict(\n",
    "        rangeselector=dict(\n",
    "            buttons=list([\n",
    "                dict(count=1,\n",
    "                     label='1m',\n",
    "                     step='month',\n",
    "                     stepmode='backward'),\n",
    "                dict(count=6,\n",
    "                     label='6m',\n",
    "                     step='month',\n",
    "                     stepmode='backward'),\n",
    "                dict(count=1,\n",
    "                    label='YTD',\n",
    "                    step='year',\n",
    "                    stepmode='todate'),\n",
    "                \n",
    "                dict(count=1,\n",
    "                    label='1y',\n",
    "                    step='year',\n",
    "                    stepmode='backward'),\n",
    "                dict(step='all')\n",
    "            ])\n",
    "        ),\n",
    "        rangeslider=dict(),\n",
    "        type='date'\n",
    "    )\n",
    ")\n",
    "\n",
    "\n",
    "fig = dict(data=data, layout=layout)\n",
    "pl.offline.plot(fig, filename = \"Manually Set Range.html\")"
   ]
  },
  {
   "cell_type": "code",
   "execution_count": 12,
   "metadata": {},
   "outputs": [
    {
     "name": "stderr",
     "output_type": "stream",
     "text": [
      "/home/seydou/.local/lib/python3.6/site-packages/plotly/offline/offline.py:459: UserWarning:\n",
      "\n",
      "Your filename `update_dropdown` didn't end with .html. Adding .html to the end of your file.\n",
      "\n"
     ]
    },
    {
     "data": {
      "text/plain": [
       "'file:///home/seydou/MarathonWeb/update_dropdown.html'"
      ]
     },
     "execution_count": 12,
     "metadata": {},
     "output_type": "execute_result"
    }
   ],
   "source": [
    "Low=df['AAPL.Low']\n",
    "High=df['AAPL.High']\n",
    "\n",
    "trace1=go.Scatter(x=df.Date,\n",
    "                  y=Low,\n",
    "                  name=\"AAPL Low\", \n",
    "                  line = dict(color = '#17BECF'),\n",
    "                  opacity = 0.8)\n",
    "\n",
    "trace_low_avg = go.Scatter(x=df.Date,\n",
    "                            y=[Low.mean()]*len(df.Date),\n",
    "                            name='Low Average',\n",
    "                            visible=False,\n",
    "                            line=dict(color='#33CFA5', dash='dash'))\n",
    "\n",
    "trace2=go.Scatter(x=df.Date,\n",
    "                  y=High,\n",
    "                  name=\"AAPL HIGH\", \n",
    "                  line=dict(color='#7F7F7F'), \n",
    "                  opacity=0.8)\n",
    "\n",
    "trace_high_avg = go.Scatter(x=df.Date,\n",
    "                            y=[High.mean()]*len(df.Date),\n",
    "                            name='High Average',\n",
    "                            visible=False,\n",
    "                            line=dict(color='#33CFA5', dash='dash'))\n",
    "\n",
    "data = [trace1,trace_low_avg, trace2, trace_high_avg]\n",
    "\n",
    "\n",
    "high_annotations=[dict(x=df.Date,\n",
    "                       y=High.mean(),\n",
    "                       xref='x', yref='y',\n",
    "                       text='High Average:<br>'+str(High.mean()),\n",
    "                       ax=0, ay=-40),\n",
    "                  dict(x=High.idxmax(),\n",
    "                       y=High.max(),\n",
    "                       xref='x', yref='y',\n",
    "                       text='High Max:<br>'+str(High.max()),\n",
    "                       ax=0, ay=-40)]\n",
    "\n",
    "\n",
    "low_annotations=[dict(x=df.Date,\n",
    "                      y=Low.mean(),\n",
    "                      xref='x', yref='y',\n",
    "                      text='Low Average:<br>'+str(Low.mean()),\n",
    "                      ax=0, ay=40),\n",
    "                 dict(x=High.idxmin(),\n",
    "                      y=Low.min(),\n",
    "                      xref='x', yref='y',\n",
    "                      text='Low Min:<br>'+str(Low.min()),\n",
    "                      ax=0, ay=40)]\n",
    "\n",
    "\n",
    "updatemenus = list([\n",
    "    dict(active=-1,\n",
    "         buttons=list([   \n",
    "            dict(label = 'High',\n",
    "                 method = 'update',\n",
    "                 args = [{'visible': [True, True, False, False]},\n",
    "                         {'title': 'Yahoo High',\n",
    "                          'annotations': high_annotations}]),\n",
    "            dict(label = 'Low',\n",
    "                 method = 'update',\n",
    "                 args = [{'visible': [False, False, True, True]},\n",
    "                         {'title': 'Yahoo Low',\n",
    "                          'annotations': low_annotations}]),\n",
    "            dict(label = 'Both',\n",
    "                 method = 'update',\n",
    "                 args = [{'visible': [True, True, True, True]},\n",
    "                         {'title': 'Yahoo',\n",
    "                          'annotations': high_annotations+low_annotations}]),\n",
    "            dict(label = 'Reset',\n",
    "                 method = 'update',\n",
    "                 args = [{'visible': [True, False, True, False]},\n",
    "                         {'title': 'Yahoo',\n",
    "                          'annotations': []}])\n",
    "        ]),\n",
    "    )\n",
    "])\n",
    "\n",
    "layout = dict(title='Yahoo', showlegend=False,\n",
    "              updatemenus=updatemenus)\n",
    "\n",
    "fig = dict(data=data, layout=layout)\n",
    "pl.offline.plot(fig, filename='update_dropdown')\n",
    "\n",
    "#################################################################################################################\n",
    "\n",
    "\n"
   ]
  },
  {
   "cell_type": "code",
   "execution_count": null,
   "metadata": {},
   "outputs": [],
   "source": []
  },
  {
   "cell_type": "code",
   "execution_count": null,
   "metadata": {},
   "outputs": [],
   "source": []
  },
  {
   "cell_type": "code",
   "execution_count": null,
   "metadata": {},
   "outputs": [],
   "source": []
  }
 ],
 "metadata": {
  "kernelspec": {
   "display_name": "Python 3",
   "language": "python",
   "name": "python3"
  },
  "language_info": {
   "codemirror_mode": {
    "name": "ipython",
    "version": 3
   },
   "file_extension": ".py",
   "mimetype": "text/x-python",
   "name": "python",
   "nbconvert_exporter": "python",
   "pygments_lexer": "ipython3",
   "version": "3.6.4"
  }
 },
 "nbformat": 4,
 "nbformat_minor": 2
}
