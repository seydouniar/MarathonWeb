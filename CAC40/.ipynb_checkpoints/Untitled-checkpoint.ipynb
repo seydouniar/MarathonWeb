{
 "cells": [
  {
   "cell_type": "code",
   "execution_count": 45,
   "metadata": {},
   "outputs": [],
   "source": [
    "import pandas as pd \n",
    "import glob\n",
    "import plotly.graph_objs as go\n",
    "import matplotlib as plt\n",
    "import plotly as pl \n",
    "import numpy as np\n",
    "import bokeh \n",
    "import pandas_datareader.data as web\n",
    "from datetime import *\n",
    "from plotly.graph_objs import Scatter, Layout"
   ]
  },
  {
   "cell_type": "code",
   "execution_count": null,
   "metadata": {},
   "outputs": [],
   "source": [
    "pl.tools.set_credentials_file(username='HerbertGourout', api_key='rCfamr0DHh0nnioBytM9')"
   ]
  },
  {
   "cell_type": "code",
   "execution_count": 22,
   "metadata": {},
   "outputs": [],
   "source": [
    "path = r'data'\n",
    "allfile =  glob.glob(path+'/*.csv')"
   ]
  },
  {
   "cell_type": "code",
   "execution_count": 23,
   "metadata": {},
   "outputs": [
    {
     "name": "stdout",
     "output_type": "stream",
     "text": [
      "['data/CAC40-5YEARS.csv', 'data/CAC40-1YEAR.csv']\n"
     ]
    }
   ],
   "source": []
  },
  {
   "cell_type": "code",
   "execution_count": 24,
   "metadata": {},
   "outputs": [],
   "source": [
    "dfs=[]\n",
    "for file in allfile:\n",
    "    dfs.append(pd.read_csv(file))\n",
    "    \n",
    "train_data = pd.concat(dfs,ignore_index=True)"
   ]
  },
  {
   "cell_type": "code",
   "execution_count": 39,
   "metadata": {},
   "outputs": [
    {
     "data": {
      "text/html": [
       "<div>\n",
       "<style scoped>\n",
       "    .dataframe tbody tr th:only-of-type {\n",
       "        vertical-align: middle;\n",
       "    }\n",
       "\n",
       "    .dataframe tbody tr th {\n",
       "        vertical-align: top;\n",
       "    }\n",
       "\n",
       "    .dataframe thead th {\n",
       "        text-align: right;\n",
       "    }\n",
       "</style>\n",
       "<table border=\"1\" class=\"dataframe\">\n",
       "  <thead>\n",
       "    <tr style=\"text-align: right;\">\n",
       "      <th></th>\n",
       "      <th>Date</th>\n",
       "      <th>Open</th>\n",
       "      <th>High</th>\n",
       "      <th>Low</th>\n",
       "      <th>Close</th>\n",
       "      <th>Adj Close</th>\n",
       "      <th>Volume</th>\n",
       "    </tr>\n",
       "  </thead>\n",
       "  <tbody>\n",
       "    <tr>\n",
       "      <th>0</th>\n",
       "      <td>2013-03-18</td>\n",
       "      <td>3768.070068</td>\n",
       "      <td>3832.020020</td>\n",
       "      <td>3761.219971</td>\n",
       "      <td>3825.469971</td>\n",
       "      <td>3825.469971</td>\n",
       "      <td>122589000.0</td>\n",
       "    </tr>\n",
       "    <tr>\n",
       "      <th>1</th>\n",
       "      <td>2013-03-19</td>\n",
       "      <td>3813.370117</td>\n",
       "      <td>3819.370117</td>\n",
       "      <td>3763.989990</td>\n",
       "      <td>3775.750000</td>\n",
       "      <td>3775.750000</td>\n",
       "      <td>126794800.0</td>\n",
       "    </tr>\n",
       "    <tr>\n",
       "      <th>2</th>\n",
       "      <td>2013-03-20</td>\n",
       "      <td>3798.120117</td>\n",
       "      <td>3834.879883</td>\n",
       "      <td>3785.810059</td>\n",
       "      <td>3829.560059</td>\n",
       "      <td>3829.560059</td>\n",
       "      <td>105949800.0</td>\n",
       "    </tr>\n",
       "    <tr>\n",
       "      <th>3</th>\n",
       "      <td>2013-03-21</td>\n",
       "      <td>3821.439941</td>\n",
       "      <td>3822.649902</td>\n",
       "      <td>3756.580078</td>\n",
       "      <td>3774.850098</td>\n",
       "      <td>3774.850098</td>\n",
       "      <td>103805600.0</td>\n",
       "    </tr>\n",
       "    <tr>\n",
       "      <th>4</th>\n",
       "      <td>2013-03-22</td>\n",
       "      <td>3766.239990</td>\n",
       "      <td>3790.919922</td>\n",
       "      <td>3750.050049</td>\n",
       "      <td>3770.290039</td>\n",
       "      <td>3770.290039</td>\n",
       "      <td>95914400.0</td>\n",
       "    </tr>\n",
       "  </tbody>\n",
       "</table>\n",
       "</div>"
      ],
      "text/plain": [
       "         Date         Open         High          Low        Close  \\\n",
       "0  2013-03-18  3768.070068  3832.020020  3761.219971  3825.469971   \n",
       "1  2013-03-19  3813.370117  3819.370117  3763.989990  3775.750000   \n",
       "2  2013-03-20  3798.120117  3834.879883  3785.810059  3829.560059   \n",
       "3  2013-03-21  3821.439941  3822.649902  3756.580078  3774.850098   \n",
       "4  2013-03-22  3766.239990  3790.919922  3750.050049  3770.290039   \n",
       "\n",
       "     Adj Close       Volume  \n",
       "0  3825.469971  122589000.0  \n",
       "1  3775.750000  126794800.0  \n",
       "2  3829.560059  105949800.0  \n",
       "3  3774.850098  103805600.0  \n",
       "4  3770.290039   95914400.0  "
      ]
     },
     "execution_count": 39,
     "metadata": {},
     "output_type": "execute_result"
    }
   ],
   "source": [
    "train_data.head().iloc[:]"
   ]
  },
  {
   "cell_type": "code",
   "execution_count": 60,
   "metadata": {},
   "outputs": [
    {
     "data": {
      "text/html": [
       "<div>\n",
       "<style scoped>\n",
       "    .dataframe tbody tr th:only-of-type {\n",
       "        vertical-align: middle;\n",
       "    }\n",
       "\n",
       "    .dataframe tbody tr th {\n",
       "        vertical-align: top;\n",
       "    }\n",
       "\n",
       "    .dataframe thead th {\n",
       "        text-align: right;\n",
       "    }\n",
       "</style>\n",
       "<table border=\"1\" class=\"dataframe\">\n",
       "  <thead>\n",
       "    <tr style=\"text-align: right;\">\n",
       "      <th></th>\n",
       "      <th>Date</th>\n",
       "      <th>Open</th>\n",
       "      <th>High</th>\n",
       "      <th>Low</th>\n",
       "      <th>Close</th>\n",
       "      <th>Adj Close</th>\n",
       "      <th>Volume</th>\n",
       "    </tr>\n",
       "  </thead>\n",
       "  <tbody>\n",
       "    <tr>\n",
       "      <th>1529</th>\n",
       "      <td>2018-03-09</td>\n",
       "      <td>5243.089844</td>\n",
       "      <td>5293.080078</td>\n",
       "      <td>5241.509766</td>\n",
       "      <td>5274.399902</td>\n",
       "      <td>5274.399902</td>\n",
       "      <td>75500400.0</td>\n",
       "    </tr>\n",
       "    <tr>\n",
       "      <th>1530</th>\n",
       "      <td>2018-03-12</td>\n",
       "      <td>5298.220215</td>\n",
       "      <td>5302.419922</td>\n",
       "      <td>5258.109863</td>\n",
       "      <td>5276.709961</td>\n",
       "      <td>5276.709961</td>\n",
       "      <td>64074300.0</td>\n",
       "    </tr>\n",
       "    <tr>\n",
       "      <th>1531</th>\n",
       "      <td>2018-03-13</td>\n",
       "      <td>5284.839844</td>\n",
       "      <td>5311.660156</td>\n",
       "      <td>5225.270020</td>\n",
       "      <td>5242.790039</td>\n",
       "      <td>5242.790039</td>\n",
       "      <td>87014000.0</td>\n",
       "    </tr>\n",
       "    <tr>\n",
       "      <th>1532</th>\n",
       "      <td>2018-03-14</td>\n",
       "      <td>5237.750000</td>\n",
       "      <td>5272.720215</td>\n",
       "      <td>5224.310059</td>\n",
       "      <td>5233.359863</td>\n",
       "      <td>5233.359863</td>\n",
       "      <td>73618000.0</td>\n",
       "    </tr>\n",
       "    <tr>\n",
       "      <th>1533</th>\n",
       "      <td>2018-03-15</td>\n",
       "      <td>5252.220215</td>\n",
       "      <td>5274.939941</td>\n",
       "      <td>5235.939941</td>\n",
       "      <td>5267.259766</td>\n",
       "      <td>5267.259766</td>\n",
       "      <td>82441300.0</td>\n",
       "    </tr>\n",
       "  </tbody>\n",
       "</table>\n",
       "</div>"
      ],
      "text/plain": [
       "            Date         Open         High          Low        Close  \\\n",
       "1529  2018-03-09  5243.089844  5293.080078  5241.509766  5274.399902   \n",
       "1530  2018-03-12  5298.220215  5302.419922  5258.109863  5276.709961   \n",
       "1531  2018-03-13  5284.839844  5311.660156  5225.270020  5242.790039   \n",
       "1532  2018-03-14  5237.750000  5272.720215  5224.310059  5233.359863   \n",
       "1533  2018-03-15  5252.220215  5274.939941  5235.939941  5267.259766   \n",
       "\n",
       "        Adj Close      Volume  \n",
       "1529  5274.399902  75500400.0  \n",
       "1530  5276.709961  64074300.0  \n",
       "1531  5242.790039  87014000.0  \n",
       "1532  5233.359863  73618000.0  \n",
       "1533  5267.259766  82441300.0  "
      ]
     },
     "execution_count": 60,
     "metadata": {},
     "output_type": "execute_result"
    }
   ],
   "source": [
    "train_data.tail()"
   ]
  },
  {
   "cell_type": "code",
   "execution_count": 54,
   "metadata": {},
   "outputs": [
    {
     "data": {
      "text/plain": [
       "'file:///home/seydou/CAC40/temp-plot.html'"
      ]
     },
     "execution_count": 54,
     "metadata": {},
     "output_type": "execute_result"
    }
   ],
   "source": [
    "data = [go.Scatter(x=train_data.Date, y=train_data['Open'])]\n",
    "pl.offline.plot(data)"
   ]
  },
  {
   "cell_type": "code",
   "execution_count": null,
   "metadata": {},
   "outputs": [],
   "source": []
  },
  {
   "cell_type": "code",
   "execution_count": 55,
   "metadata": {},
   "outputs": [
    {
     "data": {
      "text/plain": [
       "'file:///home/seydou/CAC40/temp-plot.html'"
      ]
     },
     "execution_count": 55,
     "metadata": {},
     "output_type": "execute_result"
    }
   ],
   "source": [
    "data = [go.Scatter(x=train_data.Date, y=train_data['High'])]\n",
    "pl.offline.plot(data)"
   ]
  },
  {
   "cell_type": "code",
   "execution_count": 56,
   "metadata": {},
   "outputs": [
    {
     "data": {
      "text/plain": [
       "'file:///home/seydou/CAC40/temp-plot.html'"
      ]
     },
     "execution_count": 56,
     "metadata": {},
     "output_type": "execute_result"
    }
   ],
   "source": [
    "data = [go.Scatter(x=train_data.Date, y=train_data['Low'])]\n",
    "pl.offline.plot(data)"
   ]
  },
  {
   "cell_type": "code",
   "execution_count": 57,
   "metadata": {},
   "outputs": [
    {
     "data": {
      "text/plain": [
       "'file:///home/seydou/CAC40/temp-plot.html'"
      ]
     },
     "execution_count": 57,
     "metadata": {},
     "output_type": "execute_result"
    }
   ],
   "source": [
    "data = [go.Scatter(x=train_data.Date, y=train_data['Close'])]\n",
    "pl.offline.plot(data)"
   ]
  },
  {
   "cell_type": "code",
   "execution_count": 92,
   "metadata": {},
   "outputs": [],
   "source": [
    "df= train_data\n",
    "trace1=go.Scatter(x=df.Date, y=df['Open'], name=\"Open\", line = dict(color = '#17BECF'), opacity = 0.8)\n",
    "trace2=go.Scatter(x=df.Date, y=df['High'], name=\"HIGH\", line=dict(color='#7F7F7F'), opacity=0.8)\n",
    "trace3=go.Scatter(x=df.Date, y=df['Close'], name=\"Close\", line=dict(color='red'), opacity=0.8)\n",
    "trace4=go.Scatter(x=df.Date, y=df['Low'], name=\"Low\", line = dict(color = '#33CFA5'), opacity = 0.8)\n",
    "\n",
    "#add mean to graph\n",
    "trace_1_avg = go.Scatter(x=df.index,\n",
    "                            y=[df.Open.mean()]*len(df.index),\n",
    "                            name='Open Average',\n",
    "                            visible=False,\n",
    "                            line=dict(color='#17BECF', dash='dash'))\n",
    "\n",
    "trace_1_avg = go.Scatter(x=df.index,\n",
    "                            y=[df.High.mean()]*len(df.index),\n",
    "                            name='High Average',\n",
    "                            visible=False,\n",
    "                            line=dict(color='#7F7F7F', dash='dash'))\n",
    "\n",
    "trace_1_avg = go.Scatter(x=df.index,\n",
    "                            y=[df.Low.mean()]*len(df.index),\n",
    "                            name='Low Average',\n",
    "                            visible=False,\n",
    "                            line=dict(color='#red', dash='dash'))\n",
    "\n",
    "trace_1_avg = go.Scatter(x=df.index,\n",
    "                            y=[df.Close.mean()]*len(df.index),\n",
    "                            name='Close Average',\n",
    "                            visible=False,\n",
    "                            line=dict(color='#33CFA5', dash='dash'))\n",
    "data=[trace1,trace2,trace3,trace4]\n",
    "\n",
    "# annotation\n",
    "\n",
    "high_annotations=[dict(x='2018-03-01',\n",
    "                       y=df.High.mean(),\n",
    "                       xref='x', yref='y',\n",
    "                       text='High Average:<br>'+str(df.High.mean()),\n",
    "                       ax=0, ay=-40),\n",
    "                  dict(x=df.High.idxmax(),\n",
    "                       y=df.High.max(),\n",
    "                       xref='x', yref='y',\n",
    "                       text='High Max:<br>'+str(df.High.max()),\n",
    "                       ax=0, ay=-40)]\n",
    "low_annotations=[dict(x='2013-05-01',\n",
    "                      y=df.Low.mean(),\n",
    "                      xref='x', yref='y',\n",
    "                      text='Low Average:<br>'+str(df.Low.mean()),\n",
    "                      ax=0, ay=40),\n",
    "                 dict(x=df.High.idxmin(),\n",
    "                      y=df.Low.min(),\n",
    "                      xref='x', yref='y',\n",
    "                      text='Low Min:<br>'+str(df.Low.min()),\n",
    "                      ax=0, ay=40)]"
   ]
  },
  {
   "cell_type": "code",
   "execution_count": 93,
   "metadata": {},
   "outputs": [],
   "source": [
    "updatemenus = list([\n",
    "    dict(type=\"buttons\",\n",
    "         active=-1,\n",
    "         buttons=list([   \n",
    "            dict(label = 'High',\n",
    "                 method = 'update',\n",
    "                 args = [{'visible': [True, True, False, False]},\n",
    "                         {'title': 'Yahoo High',\n",
    "                          'annotations': high_annotations}]),\n",
    "            dict(label = 'Low',\n",
    "                 method = 'update',\n",
    "                 args = [{'visible': [False, False, True, True]},\n",
    "                         {'title': 'Yahoo Low',\n",
    "                          'annotations': low_annotations}]),\n",
    "            dict(label = 'Both',\n",
    "                 method = 'update',\n",
    "                 args = [{'visible': [True, True, True, True]},\n",
    "                         {'title': 'Yahoo',\n",
    "                          'annotations': high_annotations+low_annotations}]),\n",
    "            dict(label = 'Reset',\n",
    "                 method = 'update',\n",
    "                 args = [{'visible': [True, False, True, False]},\n",
    "                         {'title': 'Yahoo',\n",
    "                          'annotations': []}])\n",
    "        ]),\n",
    "    ),\n",
    "     dict(\n",
    "    xaxis=dict(\n",
    "        rangeselector=dict(\n",
    "            buttons=list([\n",
    "                dict(count=1,\n",
    "                     label='1m',\n",
    "                     step='month',\n",
    "                     stepmode='forward'),\n",
    "                dict(count=6,\n",
    "                     label='6m',\n",
    "                     step='month',\n",
    "                     stepmode='forward'),\n",
    "                dict(count=1,\n",
    "                    label='YTD',\n",
    "                    step='year',\n",
    "                    stepmode='todate'),\n",
    "                \n",
    "                dict(count=1,\n",
    "                    label='1y',\n",
    "                    step='year',\n",
    "                    stepmode='forward'),\n",
    "                dict(step='all')\n",
    "            ])\n",
    "        ),\n",
    "        rangeslider=dict(),\n",
    "        type='date'\n",
    "    ))\n",
    "])"
   ]
  },
  {
   "cell_type": "code",
   "execution_count": 95,
   "metadata": {},
   "outputs": [
    {
     "ename": "PlotlyError",
     "evalue": "Invalid 'figure_or_data' argument. Plotly will not be able to properly parse the resulting JSON. If you want to send this 'figure_or_data' to Plotly anyway (not recommended), you can set 'validate=False' as a plot option.\nHere's why you're seeing this error:\n\n'title' is not allowed in 'updatemenu'\n\nPath To Error: ['layout']['updatemenus'][1]['title']\n\nValid attributes for 'updatemenu' at path ['layout']['updatemenus'][1] under parents ['figure', 'layout', 'updatemenus']:\n\n    ['active', 'bgcolor', 'bordercolor', 'borderwidth', 'buttons',\n    'direction', 'font', 'pad', 'showactive', 'type', 'visible', 'x',\n    'xanchor', 'y', 'yanchor']\n\nRun `<updatemenu-object>.help('attribute')` on any of the above.\n'<updatemenu-object>' is the object at ['layout']['updatemenus'][1]",
     "output_type": "error",
     "traceback": [
      "\u001b[0;31m---------------------------------------------------------------------------\u001b[0m",
      "\u001b[0;31mPlotlyDictKeyError\u001b[0m                        Traceback (most recent call last)",
      "\u001b[0;32m~/.local/lib/python3.6/site-packages/plotly/tools.py\u001b[0m in \u001b[0;36mreturn_figure_from_figure_or_data\u001b[0;34m(figure_or_data, validate_figure)\u001b[0m\n\u001b[1;32m   1453\u001b[0m         \u001b[0;32mtry\u001b[0m\u001b[0;34m:\u001b[0m\u001b[0;34m\u001b[0m\u001b[0m\n\u001b[0;32m-> 1454\u001b[0;31m             \u001b[0mgraph_objs\u001b[0m\u001b[0;34m.\u001b[0m\u001b[0mFigure\u001b[0m\u001b[0;34m(\u001b[0m\u001b[0mfigure\u001b[0m\u001b[0;34m)\u001b[0m\u001b[0;34m\u001b[0m\u001b[0m\n\u001b[0m\u001b[1;32m   1455\u001b[0m         \u001b[0;32mexcept\u001b[0m \u001b[0mexceptions\u001b[0m\u001b[0;34m.\u001b[0m\u001b[0mPlotlyError\u001b[0m \u001b[0;32mas\u001b[0m \u001b[0merr\u001b[0m\u001b[0;34m:\u001b[0m\u001b[0;34m\u001b[0m\u001b[0m\n",
      "\u001b[0;32m~/.local/lib/python3.6/site-packages/plotly/graph_objs/graph_objs.py\u001b[0m in \u001b[0;36m__init__\u001b[0;34m(self, *args, **kwargs)\u001b[0m\n\u001b[1;32m   1173\u001b[0m     \u001b[0;32mdef\u001b[0m \u001b[0m__init__\u001b[0m\u001b[0;34m(\u001b[0m\u001b[0mself\u001b[0m\u001b[0;34m,\u001b[0m \u001b[0;34m*\u001b[0m\u001b[0margs\u001b[0m\u001b[0;34m,\u001b[0m \u001b[0;34m**\u001b[0m\u001b[0mkwargs\u001b[0m\u001b[0;34m)\u001b[0m\u001b[0;34m:\u001b[0m\u001b[0;34m\u001b[0m\u001b[0m\n\u001b[0;32m-> 1174\u001b[0;31m         \u001b[0msuper\u001b[0m\u001b[0;34m(\u001b[0m\u001b[0mFigure\u001b[0m\u001b[0;34m,\u001b[0m \u001b[0mself\u001b[0m\u001b[0;34m)\u001b[0m\u001b[0;34m.\u001b[0m\u001b[0m__init__\u001b[0m\u001b[0;34m(\u001b[0m\u001b[0;34m*\u001b[0m\u001b[0margs\u001b[0m\u001b[0;34m,\u001b[0m \u001b[0;34m**\u001b[0m\u001b[0mkwargs\u001b[0m\u001b[0;34m)\u001b[0m\u001b[0;34m\u001b[0m\u001b[0m\n\u001b[0m\u001b[1;32m   1175\u001b[0m         \u001b[0;32mif\u001b[0m \u001b[0;34m'data'\u001b[0m \u001b[0;32mnot\u001b[0m \u001b[0;32min\u001b[0m \u001b[0mself\u001b[0m\u001b[0;34m:\u001b[0m\u001b[0;34m\u001b[0m\u001b[0m\n",
      "\u001b[0;32m~/.local/lib/python3.6/site-packages/plotly/graph_objs/graph_objs.py\u001b[0m in \u001b[0;36m__init__\u001b[0;34m(self, *args, **kwargs)\u001b[0m\n\u001b[1;32m    376\u001b[0m         \u001b[0;32mfor\u001b[0m \u001b[0mkey\u001b[0m\u001b[0;34m,\u001b[0m \u001b[0mval\u001b[0m \u001b[0;32min\u001b[0m \u001b[0md\u001b[0m\u001b[0;34m.\u001b[0m\u001b[0mitems\u001b[0m\u001b[0;34m(\u001b[0m\u001b[0;34m)\u001b[0m\u001b[0;34m:\u001b[0m\u001b[0;34m\u001b[0m\u001b[0m\n\u001b[0;32m--> 377\u001b[0;31m             \u001b[0mself\u001b[0m\u001b[0;34m.\u001b[0m\u001b[0m__setitem__\u001b[0m\u001b[0;34m(\u001b[0m\u001b[0mkey\u001b[0m\u001b[0;34m,\u001b[0m \u001b[0mval\u001b[0m\u001b[0;34m,\u001b[0m \u001b[0m_raise\u001b[0m\u001b[0;34m=\u001b[0m\u001b[0m_raise\u001b[0m\u001b[0;34m)\u001b[0m\u001b[0;34m\u001b[0m\u001b[0m\n\u001b[0m\u001b[1;32m    378\u001b[0m \u001b[0;34m\u001b[0m\u001b[0m\n",
      "\u001b[0;32m~/.local/lib/python3.6/site-packages/plotly/graph_objs/graph_objs.py\u001b[0m in \u001b[0;36m__setitem__\u001b[0;34m(self, key, value, _raise)\u001b[0m\n\u001b[1;32m    431\u001b[0m         \u001b[0;32mif\u001b[0m \u001b[0mself\u001b[0m\u001b[0;34m.\u001b[0m\u001b[0m_get_attribute_role\u001b[0m\u001b[0;34m(\u001b[0m\u001b[0mkey\u001b[0m\u001b[0;34m)\u001b[0m \u001b[0;34m==\u001b[0m \u001b[0;34m'object'\u001b[0m\u001b[0;34m:\u001b[0m\u001b[0;34m\u001b[0m\u001b[0m\n\u001b[0;32m--> 432\u001b[0;31m             \u001b[0mvalue\u001b[0m \u001b[0;34m=\u001b[0m \u001b[0mself\u001b[0m\u001b[0;34m.\u001b[0m\u001b[0m_value_to_graph_object\u001b[0m\u001b[0;34m(\u001b[0m\u001b[0mkey\u001b[0m\u001b[0;34m,\u001b[0m \u001b[0mvalue\u001b[0m\u001b[0;34m,\u001b[0m \u001b[0m_raise\u001b[0m\u001b[0;34m=\u001b[0m\u001b[0m_raise\u001b[0m\u001b[0;34m)\u001b[0m\u001b[0;34m\u001b[0m\u001b[0m\n\u001b[0m\u001b[1;32m    433\u001b[0m             \u001b[0;32mif\u001b[0m \u001b[0;32mnot\u001b[0m \u001b[0misinstance\u001b[0m\u001b[0;34m(\u001b[0m\u001b[0mvalue\u001b[0m\u001b[0;34m,\u001b[0m \u001b[0;34m(\u001b[0m\u001b[0mPlotlyDict\u001b[0m\u001b[0;34m,\u001b[0m \u001b[0mPlotlyList\u001b[0m\u001b[0;34m)\u001b[0m\u001b[0;34m)\u001b[0m\u001b[0;34m:\u001b[0m\u001b[0;34m\u001b[0m\u001b[0m\n",
      "\u001b[0;32m~/.local/lib/python3.6/site-packages/plotly/graph_objs/graph_objs.py\u001b[0m in \u001b[0;36m_value_to_graph_object\u001b[0;34m(self, key, value, _raise)\u001b[0m\n\u001b[1;32m    542\u001b[0m         return GraphObjectFactory.create(key, value, _raise=_raise,\n\u001b[0;32m--> 543\u001b[0;31m                                          _parent=self, _parent_key=key)\n\u001b[0m\u001b[1;32m    544\u001b[0m \u001b[0;34m\u001b[0m\u001b[0m\n",
      "\u001b[0;32m~/.local/lib/python3.6/site-packages/plotly/graph_objs/graph_objs.py\u001b[0m in \u001b[0;36mcreate\u001b[0;34m(object_name, *args, **kwargs)\u001b[0m\n\u001b[1;32m    798\u001b[0m             \u001b[0;32melse\u001b[0m\u001b[0;34m:\u001b[0m\u001b[0;34m\u001b[0m\u001b[0m\n\u001b[0;32m--> 799\u001b[0;31m                 \u001b[0;32mreturn\u001b[0m \u001b[0mPlotlyDict\u001b[0m\u001b[0;34m(\u001b[0m\u001b[0;34m*\u001b[0m\u001b[0margs\u001b[0m\u001b[0;34m,\u001b[0m \u001b[0;34m**\u001b[0m\u001b[0mkwargs\u001b[0m\u001b[0;34m)\u001b[0m\u001b[0;34m\u001b[0m\u001b[0m\n\u001b[0m\u001b[1;32m    800\u001b[0m \u001b[0;34m\u001b[0m\u001b[0m\n",
      "\u001b[0;32m~/.local/lib/python3.6/site-packages/plotly/graph_objs/graph_objs.py\u001b[0m in \u001b[0;36m__init__\u001b[0;34m(self, *args, **kwargs)\u001b[0m\n\u001b[1;32m    376\u001b[0m         \u001b[0;32mfor\u001b[0m \u001b[0mkey\u001b[0m\u001b[0;34m,\u001b[0m \u001b[0mval\u001b[0m \u001b[0;32min\u001b[0m \u001b[0md\u001b[0m\u001b[0;34m.\u001b[0m\u001b[0mitems\u001b[0m\u001b[0;34m(\u001b[0m\u001b[0;34m)\u001b[0m\u001b[0;34m:\u001b[0m\u001b[0;34m\u001b[0m\u001b[0m\n\u001b[0;32m--> 377\u001b[0;31m             \u001b[0mself\u001b[0m\u001b[0;34m.\u001b[0m\u001b[0m__setitem__\u001b[0m\u001b[0;34m(\u001b[0m\u001b[0mkey\u001b[0m\u001b[0;34m,\u001b[0m \u001b[0mval\u001b[0m\u001b[0;34m,\u001b[0m \u001b[0m_raise\u001b[0m\u001b[0;34m=\u001b[0m\u001b[0m_raise\u001b[0m\u001b[0;34m)\u001b[0m\u001b[0;34m\u001b[0m\u001b[0m\n\u001b[0m\u001b[1;32m    378\u001b[0m \u001b[0;34m\u001b[0m\u001b[0m\n",
      "\u001b[0;32m~/.local/lib/python3.6/site-packages/plotly/graph_objs/graph_objs.py\u001b[0m in \u001b[0;36m__setitem__\u001b[0;34m(self, key, value, _raise)\u001b[0m\n\u001b[1;32m    431\u001b[0m         \u001b[0;32mif\u001b[0m \u001b[0mself\u001b[0m\u001b[0;34m.\u001b[0m\u001b[0m_get_attribute_role\u001b[0m\u001b[0;34m(\u001b[0m\u001b[0mkey\u001b[0m\u001b[0;34m)\u001b[0m \u001b[0;34m==\u001b[0m \u001b[0;34m'object'\u001b[0m\u001b[0;34m:\u001b[0m\u001b[0;34m\u001b[0m\u001b[0m\n\u001b[0;32m--> 432\u001b[0;31m             \u001b[0mvalue\u001b[0m \u001b[0;34m=\u001b[0m \u001b[0mself\u001b[0m\u001b[0;34m.\u001b[0m\u001b[0m_value_to_graph_object\u001b[0m\u001b[0;34m(\u001b[0m\u001b[0mkey\u001b[0m\u001b[0;34m,\u001b[0m \u001b[0mvalue\u001b[0m\u001b[0;34m,\u001b[0m \u001b[0m_raise\u001b[0m\u001b[0;34m=\u001b[0m\u001b[0m_raise\u001b[0m\u001b[0;34m)\u001b[0m\u001b[0;34m\u001b[0m\u001b[0m\n\u001b[0m\u001b[1;32m    433\u001b[0m             \u001b[0;32mif\u001b[0m \u001b[0;32mnot\u001b[0m \u001b[0misinstance\u001b[0m\u001b[0;34m(\u001b[0m\u001b[0mvalue\u001b[0m\u001b[0;34m,\u001b[0m \u001b[0;34m(\u001b[0m\u001b[0mPlotlyDict\u001b[0m\u001b[0;34m,\u001b[0m \u001b[0mPlotlyList\u001b[0m\u001b[0;34m)\u001b[0m\u001b[0;34m)\u001b[0m\u001b[0;34m:\u001b[0m\u001b[0;34m\u001b[0m\u001b[0m\n",
      "\u001b[0;32m~/.local/lib/python3.6/site-packages/plotly/graph_objs/graph_objs.py\u001b[0m in \u001b[0;36m_value_to_graph_object\u001b[0;34m(self, key, value, _raise)\u001b[0m\n\u001b[1;32m    542\u001b[0m         return GraphObjectFactory.create(key, value, _raise=_raise,\n\u001b[0;32m--> 543\u001b[0;31m                                          _parent=self, _parent_key=key)\n\u001b[0m\u001b[1;32m    544\u001b[0m \u001b[0;34m\u001b[0m\u001b[0m\n",
      "\u001b[0;32m~/.local/lib/python3.6/site-packages/plotly/graph_objs/graph_objs.py\u001b[0m in \u001b[0;36mcreate\u001b[0;34m(object_name, *args, **kwargs)\u001b[0m\n\u001b[1;32m    796\u001b[0m             \u001b[0;32mif\u001b[0m \u001b[0mis_array\u001b[0m\u001b[0;34m:\u001b[0m\u001b[0;34m\u001b[0m\u001b[0m\n\u001b[0;32m--> 797\u001b[0;31m                 \u001b[0;32mreturn\u001b[0m \u001b[0mPlotlyList\u001b[0m\u001b[0;34m(\u001b[0m\u001b[0;34m*\u001b[0m\u001b[0margs\u001b[0m\u001b[0;34m,\u001b[0m \u001b[0;34m**\u001b[0m\u001b[0mkwargs\u001b[0m\u001b[0;34m)\u001b[0m\u001b[0;34m\u001b[0m\u001b[0m\n\u001b[0m\u001b[1;32m    798\u001b[0m             \u001b[0;32melse\u001b[0m\u001b[0;34m:\u001b[0m\u001b[0;34m\u001b[0m\u001b[0m\n",
      "\u001b[0;32m~/.local/lib/python3.6/site-packages/plotly/graph_objs/graph_objs.py\u001b[0m in \u001b[0;36m__init__\u001b[0;34m(self, *args, **kwargs)\u001b[0m\n\u001b[1;32m    157\u001b[0m         \u001b[0;32mfor\u001b[0m \u001b[0mindex\u001b[0m\u001b[0;34m,\u001b[0m \u001b[0mvalue\u001b[0m \u001b[0;32min\u001b[0m \u001b[0menumerate\u001b[0m\u001b[0;34m(\u001b[0m\u001b[0mlist\u001b[0m\u001b[0;34m(\u001b[0m\u001b[0;34m*\u001b[0m\u001b[0margs\u001b[0m\u001b[0;34m)\u001b[0m\u001b[0;34m)\u001b[0m\u001b[0;34m:\u001b[0m\u001b[0;34m\u001b[0m\u001b[0m\n\u001b[0;32m--> 158\u001b[0;31m             \u001b[0mvalue\u001b[0m \u001b[0;34m=\u001b[0m \u001b[0mself\u001b[0m\u001b[0;34m.\u001b[0m\u001b[0m_value_to_graph_object\u001b[0m\u001b[0;34m(\u001b[0m\u001b[0mindex\u001b[0m\u001b[0;34m,\u001b[0m \u001b[0mvalue\u001b[0m\u001b[0;34m,\u001b[0m \u001b[0m_raise\u001b[0m\u001b[0;34m=\u001b[0m\u001b[0m_raise\u001b[0m\u001b[0;34m)\u001b[0m\u001b[0;34m\u001b[0m\u001b[0m\n\u001b[0m\u001b[1;32m    159\u001b[0m \u001b[0;34m\u001b[0m\u001b[0m\n",
      "\u001b[0;32m~/.local/lib/python3.6/site-packages/plotly/graph_objs/graph_objs.py\u001b[0m in \u001b[0;36m_value_to_graph_object\u001b[0;34m(self, index, value, _raise)\u001b[0m\n\u001b[1;32m    222\u001b[0m                                                  \u001b[0m_parent\u001b[0m\u001b[0;34m=\u001b[0m\u001b[0mself\u001b[0m\u001b[0;34m,\u001b[0m\u001b[0;34m\u001b[0m\u001b[0m\n\u001b[0;32m--> 223\u001b[0;31m                                                  _parent_key=index, **value)\n\u001b[0m\u001b[1;32m    224\u001b[0m             \u001b[0;32mexcept\u001b[0m \u001b[0mexceptions\u001b[0m\u001b[0;34m.\u001b[0m\u001b[0mPlotlyGraphObjectError\u001b[0m\u001b[0;34m:\u001b[0m\u001b[0;34m\u001b[0m\u001b[0m\n",
      "\u001b[0;32m~/.local/lib/python3.6/site-packages/plotly/graph_objs/graph_objs.py\u001b[0m in \u001b[0;36mcreate\u001b[0;34m(object_name, *args, **kwargs)\u001b[0m\n\u001b[1;32m    798\u001b[0m             \u001b[0;32melse\u001b[0m\u001b[0;34m:\u001b[0m\u001b[0;34m\u001b[0m\u001b[0m\n\u001b[0;32m--> 799\u001b[0;31m                 \u001b[0;32mreturn\u001b[0m \u001b[0mPlotlyDict\u001b[0m\u001b[0;34m(\u001b[0m\u001b[0;34m*\u001b[0m\u001b[0margs\u001b[0m\u001b[0;34m,\u001b[0m \u001b[0;34m**\u001b[0m\u001b[0mkwargs\u001b[0m\u001b[0;34m)\u001b[0m\u001b[0;34m\u001b[0m\u001b[0m\n\u001b[0m\u001b[1;32m    800\u001b[0m \u001b[0;34m\u001b[0m\u001b[0m\n",
      "\u001b[0;32m~/.local/lib/python3.6/site-packages/plotly/graph_objs/graph_objs.py\u001b[0m in \u001b[0;36m__init__\u001b[0;34m(self, *args, **kwargs)\u001b[0m\n\u001b[1;32m    376\u001b[0m         \u001b[0;32mfor\u001b[0m \u001b[0mkey\u001b[0m\u001b[0;34m,\u001b[0m \u001b[0mval\u001b[0m \u001b[0;32min\u001b[0m \u001b[0md\u001b[0m\u001b[0;34m.\u001b[0m\u001b[0mitems\u001b[0m\u001b[0;34m(\u001b[0m\u001b[0;34m)\u001b[0m\u001b[0;34m:\u001b[0m\u001b[0;34m\u001b[0m\u001b[0m\n\u001b[0;32m--> 377\u001b[0;31m             \u001b[0mself\u001b[0m\u001b[0;34m.\u001b[0m\u001b[0m__setitem__\u001b[0m\u001b[0;34m(\u001b[0m\u001b[0mkey\u001b[0m\u001b[0;34m,\u001b[0m \u001b[0mval\u001b[0m\u001b[0;34m,\u001b[0m \u001b[0m_raise\u001b[0m\u001b[0;34m=\u001b[0m\u001b[0m_raise\u001b[0m\u001b[0;34m)\u001b[0m\u001b[0;34m\u001b[0m\u001b[0m\n\u001b[0m\u001b[1;32m    378\u001b[0m \u001b[0;34m\u001b[0m\u001b[0m\n",
      "\u001b[0;32m~/.local/lib/python3.6/site-packages/plotly/graph_objs/graph_objs.py\u001b[0m in \u001b[0;36m__setitem__\u001b[0;34m(self, key, value, _raise)\u001b[0m\n\u001b[1;32m    427\u001b[0m                     \u001b[0mpath\u001b[0m \u001b[0;34m=\u001b[0m \u001b[0mself\u001b[0m\u001b[0;34m.\u001b[0m\u001b[0m_get_path\u001b[0m\u001b[0;34m(\u001b[0m\u001b[0;34m)\u001b[0m \u001b[0;34m+\u001b[0m \u001b[0;34m(\u001b[0m\u001b[0mkey\u001b[0m\u001b[0;34m,\u001b[0m \u001b[0;34m)\u001b[0m\u001b[0;34m\u001b[0m\u001b[0m\n\u001b[0;32m--> 428\u001b[0;31m                     \u001b[0;32mraise\u001b[0m \u001b[0mexceptions\u001b[0m\u001b[0;34m.\u001b[0m\u001b[0mPlotlyDictKeyError\u001b[0m\u001b[0;34m(\u001b[0m\u001b[0mself\u001b[0m\u001b[0;34m,\u001b[0m \u001b[0mpath\u001b[0m\u001b[0;34m)\u001b[0m\u001b[0;34m\u001b[0m\u001b[0m\n\u001b[0m\u001b[1;32m    429\u001b[0m                 \u001b[0;32mreturn\u001b[0m\u001b[0;34m\u001b[0m\u001b[0m\n",
      "\u001b[0;31mPlotlyDictKeyError\u001b[0m: 'title' is not allowed in 'updatemenu'\n\nPath To Error: ['layout']['updatemenus'][1]['title']\n\nValid attributes for 'updatemenu' at path ['layout']['updatemenus'][1] under parents ['figure', 'layout', 'updatemenus']:\n\n    ['active', 'bgcolor', 'bordercolor', 'borderwidth', 'buttons',\n    'direction', 'font', 'pad', 'showactive', 'type', 'visible', 'x',\n    'xanchor', 'y', 'yanchor']\n\nRun `<updatemenu-object>.help('attribute')` on any of the above.\n'<updatemenu-object>' is the object at ['layout']['updatemenus'][1]",
      "\nDuring handling of the above exception, another exception occurred:\n",
      "\u001b[0;31mPlotlyError\u001b[0m                               Traceback (most recent call last)",
      "\u001b[0;32m<ipython-input-95-c242995cdd6c>\u001b[0m in \u001b[0;36m<module>\u001b[0;34m()\u001b[0m\n\u001b[1;32m     32\u001b[0m               updatemenus=updatemenus)\n\u001b[1;32m     33\u001b[0m \u001b[0mfig\u001b[0m \u001b[0;34m=\u001b[0m \u001b[0mdict\u001b[0m\u001b[0;34m(\u001b[0m\u001b[0mdata\u001b[0m\u001b[0;34m=\u001b[0m\u001b[0mdata\u001b[0m\u001b[0;34m,\u001b[0m \u001b[0mlayout\u001b[0m\u001b[0;34m=\u001b[0m\u001b[0mlayout\u001b[0m\u001b[0;34m)\u001b[0m\u001b[0;34m\u001b[0m\u001b[0m\n\u001b[0;32m---> 34\u001b[0;31m \u001b[0mpl\u001b[0m\u001b[0;34m.\u001b[0m\u001b[0moffline\u001b[0m\u001b[0;34m.\u001b[0m\u001b[0mplot\u001b[0m\u001b[0;34m(\u001b[0m\u001b[0mfig\u001b[0m\u001b[0;34m,\u001b[0m \u001b[0mfilename\u001b[0m \u001b[0;34m=\u001b[0m \u001b[0;34m\"Manually Set Range.html\"\u001b[0m\u001b[0;34m)\u001b[0m\u001b[0;34m\u001b[0m\u001b[0m\n\u001b[0m",
      "\u001b[0;32m~/.local/lib/python3.6/site-packages/plotly/offline/offline.py\u001b[0m in \u001b[0;36mplot\u001b[0;34m(figure_or_data, show_link, link_text, validate, output_type, include_plotlyjs, filename, auto_open, image, image_filename, image_width, image_height, config)\u001b[0m\n\u001b[1;32m    467\u001b[0m     plot_html, plotdivid, width, height = _plot_html(\n\u001b[1;32m    468\u001b[0m         \u001b[0mfigure_or_data\u001b[0m\u001b[0;34m,\u001b[0m \u001b[0mconfig\u001b[0m\u001b[0;34m,\u001b[0m \u001b[0mvalidate\u001b[0m\u001b[0;34m,\u001b[0m\u001b[0;34m\u001b[0m\u001b[0m\n\u001b[0;32m--> 469\u001b[0;31m         '100%', '100%', global_requirejs=False)\n\u001b[0m\u001b[1;32m    470\u001b[0m \u001b[0;34m\u001b[0m\u001b[0m\n\u001b[1;32m    471\u001b[0m     \u001b[0mresize_script\u001b[0m \u001b[0;34m=\u001b[0m \u001b[0;34m''\u001b[0m\u001b[0;34m\u001b[0m\u001b[0m\n",
      "\u001b[0;32m~/.local/lib/python3.6/site-packages/plotly/offline/offline.py\u001b[0m in \u001b[0;36m_plot_html\u001b[0;34m(figure_or_data, config, validate, default_width, default_height, global_requirejs)\u001b[0m\n\u001b[1;32m    159\u001b[0m     \u001b[0;32melse\u001b[0m\u001b[0;34m:\u001b[0m\u001b[0;34m\u001b[0m\u001b[0m\n\u001b[1;32m    160\u001b[0m         figure = tools.return_figure_from_figure_or_data(\n\u001b[0;32m--> 161\u001b[0;31m             \u001b[0mfigure_or_data\u001b[0m\u001b[0;34m,\u001b[0m \u001b[0mvalidate\u001b[0m\u001b[0;34m\u001b[0m\u001b[0m\n\u001b[0m\u001b[1;32m    162\u001b[0m         )\n\u001b[1;32m    163\u001b[0m \u001b[0;34m\u001b[0m\u001b[0m\n",
      "\u001b[0;32m~/.local/lib/python3.6/site-packages/plotly/tools.py\u001b[0m in \u001b[0;36mreturn_figure_from_figure_or_data\u001b[0;34m(figure_or_data, validate_figure)\u001b[0m\n\u001b[1;32m   1462\u001b[0m                                          \u001b[0;34m\"plot option.\\nHere's why you're \"\u001b[0m\u001b[0;34m\u001b[0m\u001b[0m\n\u001b[1;32m   1463\u001b[0m                                          \u001b[0;34m\"seeing this error:\\n\\n{0}\"\u001b[0m\u001b[0;34m\u001b[0m\u001b[0m\n\u001b[0;32m-> 1464\u001b[0;31m                                          \"\".format(err))\n\u001b[0m\u001b[1;32m   1465\u001b[0m         \u001b[0;32mif\u001b[0m \u001b[0;32mnot\u001b[0m \u001b[0mfigure\u001b[0m\u001b[0;34m[\u001b[0m\u001b[0;34m'data'\u001b[0m\u001b[0;34m]\u001b[0m\u001b[0;34m:\u001b[0m\u001b[0;34m\u001b[0m\u001b[0m\n\u001b[1;32m   1466\u001b[0m             raise exceptions.PlotlyEmptyDataError(\n",
      "\u001b[0;31mPlotlyError\u001b[0m: Invalid 'figure_or_data' argument. Plotly will not be able to properly parse the resulting JSON. If you want to send this 'figure_or_data' to Plotly anyway (not recommended), you can set 'validate=False' as a plot option.\nHere's why you're seeing this error:\n\n'title' is not allowed in 'updatemenu'\n\nPath To Error: ['layout']['updatemenus'][1]['title']\n\nValid attributes for 'updatemenu' at path ['layout']['updatemenus'][1] under parents ['figure', 'layout', 'updatemenus']:\n\n    ['active', 'bgcolor', 'bordercolor', 'borderwidth', 'buttons',\n    'direction', 'font', 'pad', 'showactive', 'type', 'visible', 'x',\n    'xanchor', 'y', 'yanchor']\n\nRun `<updatemenu-object>.help('attribute')` on any of the above.\n'<updatemenu-object>' is the object at ['layout']['updatemenus'][1]"
     ]
    }
   ],
   "source": [
    "\"\"\"\n",
    "layout = dict(\n",
    "    title='Time Series with Rangeslider',\n",
    "    xaxis=dict(\n",
    "        rangeselector=dict(\n",
    "            buttons=list([\n",
    "                dict(count=1,\n",
    "                     label='1m',\n",
    "                     step='month',\n",
    "                     stepmode='forward'),\n",
    "                dict(count=6,\n",
    "                     label='6m',\n",
    "                     step='month',\n",
    "                     stepmode='forward'),\n",
    "                dict(count=1,\n",
    "                    label='YTD',\n",
    "                    step='year',\n",
    "                    stepmode='todate'),\n",
    "                \n",
    "                dict(count=1,\n",
    "                    label='1y',\n",
    "                    step='year',\n",
    "                    stepmode='forward'),\n",
    "                dict(step='all')\n",
    "            ])\n",
    "        ),\n",
    "        rangeslider=dict(),\n",
    "        type='date'\n",
    "    )\n",
    ")\"\"\"\n",
    "layout = dict(title='Yahoo', showlegend=False,\n",
    "              updatemenus=updatemenus)\n",
    "fig = dict(data=data, layout=layout)\n",
    "pl.offline.plot(fig, filename = \"Manually Set Range.html\")"
   ]
  },
  {
   "cell_type": "code",
   "execution_count": null,
   "metadata": {},
   "outputs": [],
   "source": []
  }
 ],
 "metadata": {
  "kernelspec": {
   "display_name": "Python 3",
   "language": "python",
   "name": "python3"
  },
  "language_info": {
   "codemirror_mode": {
    "name": "ipython",
    "version": 3
   },
   "file_extension": ".py",
   "mimetype": "text/x-python",
   "name": "python",
   "nbconvert_exporter": "python",
   "pygments_lexer": "ipython3",
   "version": "3.6.4"
  }
 },
 "nbformat": 4,
 "nbformat_minor": 2
}
